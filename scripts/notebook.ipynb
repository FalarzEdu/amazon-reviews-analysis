{
 "cells": [
  {
   "cell_type": "markdown",
   "id": "c4ab4de4-f962-416b-9ed9-7adf9aaaa182",
   "metadata": {
    "jp-MarkdownHeadingCollapsed": true
   },
   "source": [
    "### Setup"
   ]
  },
  {
   "cell_type": "code",
   "execution_count": null,
   "id": "42c4c7b0-89c2-406e-82c1-ef9aa8c8778f",
   "metadata": {},
   "outputs": [],
   "source": [
    "import sys\n",
    "from pathlib import Path\n",
    "\n",
    "project_dir = Path(\".\")\n",
    "config_path = project_dir / \"config\"\n",
    "services_path = project_dir / \"services\"\n",
    "sys.path.append(str(config_path))\n",
    "sys.path.append(str(services_path))\n",
    "\n",
    "from connection import Connection\n",
    "from mongoServices import MongoServices\n",
    "\n",
    "conn = Connection()\n",
    "db = conn.connect()\n",
    "\n",
    "services = MongoServices(db)\n",
    "reviews_collection = db.get_collection(\"reviews\")"
   ]
  },
  {
   "cell_type": "markdown",
   "id": "767738a8-5dc4-4479-8071-6098a0eed631",
   "metadata": {
    "jp-MarkdownHeadingCollapsed": true
   },
   "source": [
    "### Document(s) Read (all)"
   ]
  },
  {
   "cell_type": "code",
   "execution_count": 2,
   "id": "ba38b213-7df2-48bc-af0a-14589e65b1e5",
   "metadata": {},
   "outputs": [
    {
     "name": "stderr",
     "output_type": "stream",
     "text": [
      "INFO:root:Reading all documents from collection 'reviews'\n"
     ]
    },
    {
     "name": "stdout",
     "output_type": "stream",
     "text": [
      "Total documents fetched: 1605\n",
      "{'_id': ObjectId('678d50a2bafd1d482066dd55'), 'id': 'AVpe7AsMilAPnD_xQ78G', 'asins': 'B00QJDU3KY', 'brand': 'Amazon', 'categories': 'Amazon Devices,mazon.co.uk', 'colors': '', 'dateAdded': '2016-03-08T20:21:53Z', 'dateUpdated': '2017-07-18T23:52:58Z', 'dimension': '169 mm x 117 mm x 9.1 mm', 'ean': '', 'keys': 'kindlepaperwhite/b00qjdu3ky', 'manufacturer': 'Amazon', 'manufacturerNumber': '', 'name': 'Kindle Paperwhite', 'prices': '[{\"amountMax\":139.99,\"amountMin\":139.99,\"currency\":\"USD\",\"dateAdded\":\"2017-07-18T23:52:58Z\",\"dateSeen\":[\"2017-07-15T18:10:23.807Z\",\"2016-03-16T00:00:00Z\"],\"isSale\":\"false\",\"merchant\":\"Amazon.com\",\"shipping\":\"FREE Shipping.\",\"sourceURLs\":[\"https://www.amazon.com/Kindle-Paperwhite-High-Resolution-Display-Built/dp/B00QJDU3KY/ref=lp_6669702011_1_7/132-1677641-8459202?s=amazon-devices&ie=UTF8&qid=1498832761&sr=1-7\",\"http://www.amazon.com/Kindle-Paperwhite-High-Resolution-Display-Built-/dp/B00QJDU3KY\"]},{\"amountMax\":119.99,\"amountMin\":119.99,\"condition\":\"new\",\"currency\":\"EUR\",\"dateAdded\":\"2016-03-08T20:21:53Z\",\"dateSeen\":[\"2016-01-29T00:00:00Z\"],\"isSale\":\"false\",\"merchant\":\"Amazon EU Sarl\",\"shipping\":\"free\",\"sourceURLs\":[\"http://www.amazon.co.uk/Kindle-Paperwhite-Resolution-Display-Built-/dp/B00QJDU3KY\"]},{\"amountMax\":139.99,\"amountMin\":139.99,\"condition\":\"new\",\"currency\":\"CAD\",\"dateAdded\":\"2016-03-08T20:21:53Z\",\"dateSeen\":[\"2016-01-11T00:00:00Z\"],\"isSale\":\"false\",\"merchant\":\"Amazon\",\"shipping\":\"free\",\"sourceURLs\":[\"http://www.amazon.ca/dp/B00QJDU3KY\"]},{\"amountMax\":119.99,\"amountMin\":119.99,\"currency\":\"USD\",\"dateAdded\":\"2016-03-08T20:21:53Z\",\"dateSeen\":[\"2016-03-12T00:00:00Z\"],\"isSale\":\"true\",\"merchant\":\"Amazon.com\",\"sourceURLs\":[\"http://www.amazon.com/Kindle-Paperwhite-High-Resolution-Display-Built-/dp/B00QJDU3KY\"]},{\"amountMax\":119.99,\"amountMin\":119.99,\"condition\":\"new\",\"currency\":\"EUR\",\"dateAdded\":\"2016-03-08T20:21:53Z\",\"dateSeen\":[\"2015-11-15T00:00:00Z\"],\"isSale\":\"false\",\"merchant\":\"Amazon\",\"shipping\":\"free\",\"sourceURLs\":[\"http://www.amazon.co.uk/All-New-Kindle-Paperwhite-Resolution-Display/dp/B00QJDU3KY\"]},{\"amountMax\":17.99,\"amountMin\":17.99,\"condition\":\"new\",\"currency\":\"EUR\",\"dateAdded\":\"2016-03-08T20:21:53Z\",\"dateSeen\":[\"2016-01-29T00:00:00Z\"],\"isSale\":\"false\",\"merchant\":\"Amazon EU Sarl\",\"shipping\":\"free\",\"sourceURLs\":[\"http://www.amazon.co.uk/Kindle-Paperwhite-Resolution-Display-Built-/dp/B00QJDU3KY\"]},{\"amountMax\":17.99,\"amountMin\":17.99,\"condition\":\"new\",\"currency\":\"EUR\",\"dateAdded\":\"2016-03-08T20:21:53Z\",\"dateSeen\":[\"2015-11-15T00:00:00Z\"],\"isSale\":\"false\",\"merchant\":\"Amazon\",\"shipping\":\"free\",\"sourceURLs\":[\"http://www.amazon.co.uk/All-New-Kindle-Paperwhite-Resolution-Display/dp/B00QJDU3KY\"]},{\"amountMax\":139.00,\"amountMin\":139.00,\"condition\":\"new\",\"currency\":\"CAD\",\"dateAdded\":\"2016-03-08T20:21:53Z\",\"dateSeen\":[\"2015-07-06T05:00:00Z\"],\"isSale\":\"false\",\"merchant\":\"Amazon.ca\",\"shipping\":\"free\",\"sourceURLs\":[\"http://www.amazon.ca/dp/B00QJDU3KY\"]}]', 'reviews.date': '2015-08-08T00:00:00.000Z', 'reviews.doRecommend': '', 'reviews.numHelpful': '139', 'reviews.rating': '5', 'reviews.sourceURLs': 'https://www.amazon.com/Kindle-Paperwhite-High-Resolution-Display-Built/dp/B00QJDU3KY/ref=lp_6669702011_1_7/132-1677641-8459202?s=amazon-devices&ie=UTF8&qid=1498832761&sr=1-7', 'reviews.text': \"I initially had trouble deciding between the paperwhite and the voyage because reviews more or less said the same thing: the paperwhite is great, but if you have spending money, go for the voyage.Fortunately, I had friends who owned each, so I ended up buying the paperwhite on this basis: both models now have 300 ppi, so the 80 dollar jump turns out pricey the voyage's page press isn't always sensitive, and if you are fine with a specific setting, you don't need auto light adjustment).It's been a week and I am loving my paperwhite, no regrets! The touch screen is receptive and easy to use, and I keep the light at a specific setting regardless of the time of day. (In any case, it's not hard to change the setting either, as you'll only be changing the light level at a certain time of day, not every now and then while reading).Also glad that I went for the international shipping option with Amazon. Extra expense, but delivery was on time, with tracking, and I didnt need to worry about customs, which I may have if I used a third party shipping service.\", 'reviews.title': 'Paperwhite voyage, no regrets!', 'reviews.userCity': '', 'reviews.userProvince': '', 'reviews.username': 'Cristina M', 'sizes': '', 'upc': '', 'weight': '205 grams'} \n",
      "\n",
      "\n",
      "{'_id': ObjectId('678d50a2bafd1d482066dd56'), 'id': 'AVpe7AsMilAPnD_xQ78G', 'asins': 'B00QJDU3KY', 'brand': 'Amazon', 'categories': 'Amazon Devices,mazon.co.uk', 'colors': '', 'dateAdded': '2016-03-08T20:21:53Z', 'dateUpdated': '2017-07-18T23:52:58Z', 'dimension': '169 mm x 117 mm x 9.1 mm', 'ean': '', 'keys': 'kindlepaperwhite/b00qjdu3ky', 'manufacturer': 'Amazon', 'manufacturerNumber': '', 'name': 'Kindle Paperwhite', 'prices': '[{\"amountMax\":139.99,\"amountMin\":139.99,\"currency\":\"USD\",\"dateAdded\":\"2017-07-18T23:52:58Z\",\"dateSeen\":[\"2017-07-15T18:10:23.807Z\",\"2016-03-16T00:00:00Z\"],\"isSale\":\"false\",\"merchant\":\"Amazon.com\",\"shipping\":\"FREE Shipping.\",\"sourceURLs\":[\"https://www.amazon.com/Kindle-Paperwhite-High-Resolution-Display-Built/dp/B00QJDU3KY/ref=lp_6669702011_1_7/132-1677641-8459202?s=amazon-devices&ie=UTF8&qid=1498832761&sr=1-7\",\"http://www.amazon.com/Kindle-Paperwhite-High-Resolution-Display-Built-/dp/B00QJDU3KY\"]},{\"amountMax\":119.99,\"amountMin\":119.99,\"condition\":\"new\",\"currency\":\"EUR\",\"dateAdded\":\"2016-03-08T20:21:53Z\",\"dateSeen\":[\"2016-01-29T00:00:00Z\"],\"isSale\":\"false\",\"merchant\":\"Amazon EU Sarl\",\"shipping\":\"free\",\"sourceURLs\":[\"http://www.amazon.co.uk/Kindle-Paperwhite-Resolution-Display-Built-/dp/B00QJDU3KY\"]},{\"amountMax\":139.99,\"amountMin\":139.99,\"condition\":\"new\",\"currency\":\"CAD\",\"dateAdded\":\"2016-03-08T20:21:53Z\",\"dateSeen\":[\"2016-01-11T00:00:00Z\"],\"isSale\":\"false\",\"merchant\":\"Amazon\",\"shipping\":\"free\",\"sourceURLs\":[\"http://www.amazon.ca/dp/B00QJDU3KY\"]},{\"amountMax\":119.99,\"amountMin\":119.99,\"currency\":\"USD\",\"dateAdded\":\"2016-03-08T20:21:53Z\",\"dateSeen\":[\"2016-03-12T00:00:00Z\"],\"isSale\":\"true\",\"merchant\":\"Amazon.com\",\"sourceURLs\":[\"http://www.amazon.com/Kindle-Paperwhite-High-Resolution-Display-Built-/dp/B00QJDU3KY\"]},{\"amountMax\":119.99,\"amountMin\":119.99,\"condition\":\"new\",\"currency\":\"EUR\",\"dateAdded\":\"2016-03-08T20:21:53Z\",\"dateSeen\":[\"2015-11-15T00:00:00Z\"],\"isSale\":\"false\",\"merchant\":\"Amazon\",\"shipping\":\"free\",\"sourceURLs\":[\"http://www.amazon.co.uk/All-New-Kindle-Paperwhite-Resolution-Display/dp/B00QJDU3KY\"]},{\"amountMax\":17.99,\"amountMin\":17.99,\"condition\":\"new\",\"currency\":\"EUR\",\"dateAdded\":\"2016-03-08T20:21:53Z\",\"dateSeen\":[\"2016-01-29T00:00:00Z\"],\"isSale\":\"false\",\"merchant\":\"Amazon EU Sarl\",\"shipping\":\"free\",\"sourceURLs\":[\"http://www.amazon.co.uk/Kindle-Paperwhite-Resolution-Display-Built-/dp/B00QJDU3KY\"]},{\"amountMax\":17.99,\"amountMin\":17.99,\"condition\":\"new\",\"currency\":\"EUR\",\"dateAdded\":\"2016-03-08T20:21:53Z\",\"dateSeen\":[\"2015-11-15T00:00:00Z\"],\"isSale\":\"false\",\"merchant\":\"Amazon\",\"shipping\":\"free\",\"sourceURLs\":[\"http://www.amazon.co.uk/All-New-Kindle-Paperwhite-Resolution-Display/dp/B00QJDU3KY\"]},{\"amountMax\":139.00,\"amountMin\":139.00,\"condition\":\"new\",\"currency\":\"CAD\",\"dateAdded\":\"2016-03-08T20:21:53Z\",\"dateSeen\":[\"2015-07-06T05:00:00Z\"],\"isSale\":\"false\",\"merchant\":\"Amazon.ca\",\"shipping\":\"free\",\"sourceURLs\":[\"http://www.amazon.ca/dp/B00QJDU3KY\"]}]', 'reviews.date': '2015-09-01T00:00:00.000Z', 'reviews.doRecommend': '', 'reviews.numHelpful': '126', 'reviews.rating': '5', 'reviews.sourceURLs': 'https://www.amazon.com/Kindle-Paperwhite-High-Resolution-Display-Built/dp/B00QJDU3KY/ref=lp_6669702011_1_7/132-1677641-8459202?s=amazon-devices&ie=UTF8&qid=1498832761&sr=1-7', 'reviews.text': \"Allow me to preface this with a little history. I am (was) a casual reader who owned a Nook Simple Touch from 2011. I've read the Harry Potter series, Girl with the Dragon Tattoo series, 1984, Brave New World, and a few other key titles. Fair to say my Nook did not get as much use as many others may have gotten from theirs.Fast forward to today. I have had a full week with my new Kindle Paperwhite and I have to admit, I'm in love. Not just with the Kindle, but with reading all over again! Now let me relate this review, love, and reading all back to the Kindle. The investment of 139.00 is in the experience you will receive when you buy a Kindle. You are not simply paying for a screen there is an entire experience included in buying from Amazon.I have been reading The Hunger Games trilogy and shall be moving onto the Divergent series soon after. Here is the thing with the Nook that hindered me for the past 4 years: I was never inspired to pick it up, get it into my hands, and just dive in. There was never that feeling of oh man, reading on this thing is so awesome. However, with my Paperwhite, I now have that feeling! That desire is back and I simply adore my Kindle. If you are considering purchasing one, stop thinking about it simply go for it. After a full week, 3 downloaded books, and a ton of reading, I still have half of my battery left as well.Make yourself happy. Inspire the reader inside of you.\", 'reviews.title': 'One Simply Could Not Ask For More', 'reviews.userCity': '', 'reviews.userProvince': '', 'reviews.username': 'Ricky', 'sizes': '', 'upc': '', 'weight': '205 grams'} \n",
      "\n",
      "\n",
      "{'_id': ObjectId('678d50a2bafd1d482066dd57'), 'id': 'AVpe7AsMilAPnD_xQ78G', 'asins': 'B00QJDU3KY', 'brand': 'Amazon', 'categories': 'Amazon Devices,mazon.co.uk', 'colors': '', 'dateAdded': '2016-03-08T20:21:53Z', 'dateUpdated': '2017-07-18T23:52:58Z', 'dimension': '169 mm x 117 mm x 9.1 mm', 'ean': '', 'keys': 'kindlepaperwhite/b00qjdu3ky', 'manufacturer': 'Amazon', 'manufacturerNumber': '', 'name': 'Kindle Paperwhite', 'prices': '[{\"amountMax\":139.99,\"amountMin\":139.99,\"currency\":\"USD\",\"dateAdded\":\"2017-07-18T23:52:58Z\",\"dateSeen\":[\"2017-07-15T18:10:23.807Z\",\"2016-03-16T00:00:00Z\"],\"isSale\":\"false\",\"merchant\":\"Amazon.com\",\"shipping\":\"FREE Shipping.\",\"sourceURLs\":[\"https://www.amazon.com/Kindle-Paperwhite-High-Resolution-Display-Built/dp/B00QJDU3KY/ref=lp_6669702011_1_7/132-1677641-8459202?s=amazon-devices&ie=UTF8&qid=1498832761&sr=1-7\",\"http://www.amazon.com/Kindle-Paperwhite-High-Resolution-Display-Built-/dp/B00QJDU3KY\"]},{\"amountMax\":119.99,\"amountMin\":119.99,\"condition\":\"new\",\"currency\":\"EUR\",\"dateAdded\":\"2016-03-08T20:21:53Z\",\"dateSeen\":[\"2016-01-29T00:00:00Z\"],\"isSale\":\"false\",\"merchant\":\"Amazon EU Sarl\",\"shipping\":\"free\",\"sourceURLs\":[\"http://www.amazon.co.uk/Kindle-Paperwhite-Resolution-Display-Built-/dp/B00QJDU3KY\"]},{\"amountMax\":139.99,\"amountMin\":139.99,\"condition\":\"new\",\"currency\":\"CAD\",\"dateAdded\":\"2016-03-08T20:21:53Z\",\"dateSeen\":[\"2016-01-11T00:00:00Z\"],\"isSale\":\"false\",\"merchant\":\"Amazon\",\"shipping\":\"free\",\"sourceURLs\":[\"http://www.amazon.ca/dp/B00QJDU3KY\"]},{\"amountMax\":119.99,\"amountMin\":119.99,\"currency\":\"USD\",\"dateAdded\":\"2016-03-08T20:21:53Z\",\"dateSeen\":[\"2016-03-12T00:00:00Z\"],\"isSale\":\"true\",\"merchant\":\"Amazon.com\",\"sourceURLs\":[\"http://www.amazon.com/Kindle-Paperwhite-High-Resolution-Display-Built-/dp/B00QJDU3KY\"]},{\"amountMax\":119.99,\"amountMin\":119.99,\"condition\":\"new\",\"currency\":\"EUR\",\"dateAdded\":\"2016-03-08T20:21:53Z\",\"dateSeen\":[\"2015-11-15T00:00:00Z\"],\"isSale\":\"false\",\"merchant\":\"Amazon\",\"shipping\":\"free\",\"sourceURLs\":[\"http://www.amazon.co.uk/All-New-Kindle-Paperwhite-Resolution-Display/dp/B00QJDU3KY\"]},{\"amountMax\":17.99,\"amountMin\":17.99,\"condition\":\"new\",\"currency\":\"EUR\",\"dateAdded\":\"2016-03-08T20:21:53Z\",\"dateSeen\":[\"2016-01-29T00:00:00Z\"],\"isSale\":\"false\",\"merchant\":\"Amazon EU Sarl\",\"shipping\":\"free\",\"sourceURLs\":[\"http://www.amazon.co.uk/Kindle-Paperwhite-Resolution-Display-Built-/dp/B00QJDU3KY\"]},{\"amountMax\":17.99,\"amountMin\":17.99,\"condition\":\"new\",\"currency\":\"EUR\",\"dateAdded\":\"2016-03-08T20:21:53Z\",\"dateSeen\":[\"2015-11-15T00:00:00Z\"],\"isSale\":\"false\",\"merchant\":\"Amazon\",\"shipping\":\"free\",\"sourceURLs\":[\"http://www.amazon.co.uk/All-New-Kindle-Paperwhite-Resolution-Display/dp/B00QJDU3KY\"]},{\"amountMax\":139.00,\"amountMin\":139.00,\"condition\":\"new\",\"currency\":\"CAD\",\"dateAdded\":\"2016-03-08T20:21:53Z\",\"dateSeen\":[\"2015-07-06T05:00:00Z\"],\"isSale\":\"false\",\"merchant\":\"Amazon.ca\",\"shipping\":\"free\",\"sourceURLs\":[\"http://www.amazon.ca/dp/B00QJDU3KY\"]}]', 'reviews.date': '2015-07-20T00:00:00.000Z', 'reviews.doRecommend': '', 'reviews.numHelpful': '69', 'reviews.rating': '4', 'reviews.sourceURLs': 'https://www.amazon.com/Kindle-Paperwhite-High-Resolution-Display-Built/dp/B00QJDU3KY/ref=lp_6669702011_1_7/132-1677641-8459202?s=amazon-devices&ie=UTF8&qid=1498832761&sr=1-7', 'reviews.text': \"I am enjoying it so far. Great for reading. Had the original Fire since 2012. The Fire used to make my eyes hurt if I read too long. Haven't experienced that with the Paperwhite yet.\", 'reviews.title': 'Great for those that just want an e-reader', 'reviews.userCity': '', 'reviews.userProvince': '', 'reviews.username': 'Tedd Gardiner', 'sizes': '', 'upc': '', 'weight': '205 grams'} \n",
      "\n",
      "\n"
     ]
    }
   ],
   "source": [
    "documents = services.read_all(reviews_collection)\n",
    "\n",
    "print(f\"Total documents fetched: {len(documents)}\")\n",
    "for doc in documents[:3]:\n",
    "    print(f\"{doc} \\n\\n\")"
   ]
  },
  {
   "cell_type": "markdown",
   "id": "1dbdcef3-60e2-48a6-95b1-a9e2bf986d31",
   "metadata": {
    "jp-MarkdownHeadingCollapsed": true
   },
   "source": [
    "### Document(s) insertion"
   ]
  },
  {
   "cell_type": "code",
   "execution_count": 7,
   "id": "650db817-0b2e-4ea0-a3a5-ba6822e13fc8",
   "metadata": {},
   "outputs": [
    {
     "name": "stderr",
     "output_type": "stream",
     "text": [
      "INFO:root:Inserting data into 'reviews'\n",
      "INFO:root:Data inserted into 'reviews' successfully.\n"
     ]
    },
    {
     "data": {
      "text/plain": [
       "InsertManyResult([ObjectId('678d5c4808d641caff9a95cf'), ObjectId('678d5c4808d641caff9a95d0'), ObjectId('678d5c4808d641caff9a95d1'), ObjectId('678d5c4808d641caff9a95d2'), ObjectId('678d5c4808d641caff9a95d3')], acknowledged=True)"
      ]
     },
     "execution_count": 7,
     "metadata": {},
     "output_type": "execute_result"
    }
   ],
   "source": [
    "document = {\n",
    "    'AVpe7AsMilAPnD_xGUDT': {\n",
    "      \"id\": \"AVpe7AsMilAPnD_bDAGEG\",\n",
    "      \"asins\": \"B08VJ5VJZX\",\n",
    "      \"brand\": \"Amazon\",\n",
    "      \"categories\": \"Amazon Devices, Amazon.com\",\n",
    "      \"colors\": \"\",\n",
    "      \"dateAdded\": \"2023-08-22T14:21:53Z\",\n",
    "      \"dateUpdated\": \"2024-01-10T16:52:58Z\",\n",
    "      \"dimension\": \"135 mm x 170 mm x 20 mm\",\n",
    "      \"ean\": \"\",\n",
    "      \"keys\": \"kindleshd/b08vj5vjzx\",\n",
    "      \"manufacturer\": \"Amazon\",\n",
    "      \"manufacturerNumber\": \"\",\n",
    "      \"name\": \"Kindle Oasis\",\n",
    "      \"prices\": \"[{\\\"amountMax\\\":249.99,\\\"amountMin\\\":249.99,\\\"currency\\\":\\\"USD\\\",\\\"dateAdded\\\":\\\"2023-08-22T14:21:53Z\\\",\\\"dateSeen\\\":[\\\"2023-08-15T10:00:00Z\\\"],\\\"isSale\\\":\\\"false\\\",\\\"merchant\\\":\\\"Amazon.com\\\",\\\"shipping\\\":\\\"FREE Shipping.\\\",\\\"sourceURLs\\\":[\\\"https://www.amazon.com/Kindle-Oasis-Display-Adjustable-Generation/dp/B08VJ5VJZX\\\"]}]\",\n",
    "      \"reviews.date\": \"\",\n",
    "      \"reviews.doRecommend\": \"\",\n",
    "      \"reviews.numHelpful\": \"\",\n",
    "      \"reviews.rating\": \"4\",\n",
    "      \"reviews.sourceURLs\": \"http://www.amazon.com/product-reviews/B08VJ5VJZX\",\n",
    "      \"reviews.text\": \"I love the new Kindle Oasis. The adjustable warm light makes reading so much more comfortable. However, I think it's a bit heavy for long reading sessions.\",\n",
    "      \"reviews.title\": \"Great display but a little heavy\",\n",
    "      \"reviews.userCity\": \"\",\n",
    "      \"reviews.userProvince\": \"\",\n",
    "      \"reviews.username\": \"bookworm_123\",\n",
    "      \"sizes\": \"\",\n",
    "      \"upc\": \"\",\n",
    "      \"weight\": \"188 grams\"\n",
    "    },\n",
    "    'BXi9sdjXj0lwK9vsaA2GZ5': {\n",
    "      \"id\": \"BXi9sdjXj0lwK9vsaA2GZ5\",\n",
    "      \"asins\": \"B09G8LPJ8Z\",\n",
    "      \"brand\": \"Amazon\",\n",
    "      \"categories\": \"Amazon Devices, Amazon.com\",\n",
    "      \"colors\": \"\",\n",
    "      \"dateAdded\": \"2023-09-01T15:30:00Z\",\n",
    "      \"dateUpdated\": \"2024-01-09T10:12:00Z\",\n",
    "      \"dimension\": \"130 mm x 170 mm x 18 mm\",\n",
    "      \"ean\": \"\",\n",
    "      \"keys\": \"kindletouch/b09g8lpj8z\",\n",
    "      \"manufacturer\": \"Amazon\",\n",
    "      \"manufacturerNumber\": \"\",\n",
    "      \"name\": \"Kindle Paperwhite 11th Gen\",\n",
    "      \"prices\": \"[{\\\"amountMax\\\":139.99,\\\"amountMin\\\":139.99,\\\"currency\\\":\\\"USD\\\",\\\"dateAdded\\\":\\\"2023-09-01T15:30:00Z\\\",\\\"dateSeen\\\":[\\\"2023-08-30T12:00:00Z\\\"],\\\"isSale\\\":\\\"true\\\",\\\"merchant\\\":\\\"Amazon.com\\\",\\\"shipping\\\":\\\"FREE Shipping.\\\",\\\"sourceURLs\\\":[\\\"https://www.amazon.com/Kindle-Paperwhite-11th-Generation-Display/dp/B09G8LPJ8Z\\\"]}]\",\n",
    "      \"reviews.date\": \"\",\n",
    "      \"reviews.doRecommend\": \"\",\n",
    "      \"reviews.numHelpful\": \"\",\n",
    "      \"reviews.rating\": \"5\",\n",
    "      \"reviews.sourceURLs\": \"http://www.amazon.com/product-reviews/B09G8LPJ8Z\",\n",
    "      \"reviews.text\": \"The new Paperwhite is an amazing upgrade! Faster, better screen, and the battery lasts forever. The warm light feature is a game-changer.\",\n",
    "      \"reviews.title\": \"Best Kindle I've had\",\n",
    "      \"reviews.userCity\": \"\",\n",
    "      \"reviews.userProvince\": \"\",\n",
    "      \"reviews.username\": \"avid.reader\",\n",
    "      \"sizes\": \"\",\n",
    "      \"upc\": \"\",\n",
    "      \"weight\": \"205 grams\"\n",
    "    },\n",
    "    'sOIjfgmNl2apL7w_MSKLx': {\n",
    "      \"id\": \"sOIjfgmNl2apL7w_MSKLx\",\n",
    "      \"asins\": \"B07VJYZF59\",\n",
    "      \"brand\": \"Amazon\",\n",
    "      \"categories\": \"Amazon Devices, Amazon.com\",\n",
    "      \"colors\": \"\",\n",
    "      \"dateAdded\": \"2022-11-15T18:30:00Z\",\n",
    "      \"dateUpdated\": \"2023-12-20T11:22:00Z\",\n",
    "      \"dimension\": \"140 mm x 160 mm x 20 mm\",\n",
    "      \"ean\": \"\",\n",
    "      \"keys\": \"kindlehd10/b07vjyzf59\",\n",
    "      \"manufacturer\": \"Amazon\",\n",
    "      \"manufacturerNumber\": \"\",\n",
    "      \"name\": \"Kindle HD 10\",\n",
    "      \"prices\": \"[{\\\"amountMax\\\":179.99,\\\"amountMin\\\":179.99,\\\"currency\\\":\\\"USD\\\",\\\"dateAdded\\\":\\\"2022-11-15T18:30:00Z\\\",\\\"dateSeen\\\":[\\\"2022-11-10T00:00:00Z\\\"],\\\"isSale\\\":\\\"false\\\",\\\"merchant\\\":\\\"Amazon.com\\\",\\\"shipping\\\":\\\"FREE Shipping.\\\",\\\"sourceURLs\\\":[\\\"https://www.amazon.com/Kindle-Fire-10-Tablet-Display/dp/B07VJYZF59\\\"]}]\",\n",
    "      \"reviews.date\": \"\",\n",
    "      \"reviews.doRecommend\": \"\",\n",
    "      \"reviews.numHelpful\": \"\",\n",
    "      \"reviews.rating\": \"4\",\n",
    "      \"reviews.sourceURLs\": \"http://www.amazon.com/product-reviews/B07VJYZF59\",\n",
    "      \"reviews.text\": \"The Kindle HD 10 offers excellent performance, a crisp display, and solid battery life. A great device for reading and casual media consumption.\",\n",
    "      \"reviews.title\": \"Good value for the price\",\n",
    "      \"reviews.userCity\": \"\",\n",
    "      \"reviews.userProvince\": \"\",\n",
    "      \"reviews.username\": \"techfan99\",\n",
    "      \"sizes\": \"\",\n",
    "      \"upc\": \"\",\n",
    "      \"weight\": \"355 grams\"\n",
    "    },\n",
    "    'v5OIjT6C1Jxl72kj5Zl5Vg': {\n",
    "      \"id\": \"v5OIjT6C1Jxl72kj5Zl5Vg\",\n",
    "      \"asins\": \"B08VJM2Z8X\",\n",
    "      \"brand\": \"Amazon\",\n",
    "      \"categories\": \"Amazon Devices, Amazon.com\",\n",
    "      \"colors\": \"\",\n",
    "      \"dateAdded\": \"2023-12-01T14:55:00Z\",\n",
    "      \"dateUpdated\": \"2024-01-10T10:30:00Z\",\n",
    "      \"dimension\": \"150 mm x 170 mm x 22 mm\",\n",
    "      \"ean\": \"\",\n",
    "      \"keys\": \"kindlehd10/b08vjm2z8x\",\n",
    "      \"manufacturer\": \"Amazon\",\n",
    "      \"manufacturerNumber\": \"\",\n",
    "      \"name\": \"Kindle Fire HD 8\",\n",
    "      \"prices\": \"[{\\\"amountMax\\\":129.99,\\\"amountMin\\\":129.99,\\\"currency\\\":\\\"USD\\\",\\\"dateAdded\\\":\\\"2023-12-01T14:55:00Z\\\",\\\"dateSeen\\\":[\\\"2023-11-28T10:00:00Z\\\"],\\\"isSale\\\":\\\"true\\\",\\\"merchant\\\":\\\"Amazon.com\\\",\\\"shipping\\\":\\\"FREE Shipping.\\\",\\\"sourceURLs\\\":[\\\"https://www.amazon.com/Fire-HD-8-Tablet/dp/B08VJM2Z8X\\\"]}]\",\n",
    "      \"reviews.date\": \"\",\n",
    "      \"reviews.doRecommend\": \"\",\n",
    "      \"reviews.numHelpful\": \"\",\n",
    "      \"reviews.rating\": \"4\",\n",
    "      \"reviews.sourceURLs\": \"http://www.amazon.com/product-reviews/B08VJM2Z8X\",\n",
    "      \"reviews.text\": \"The Fire HD 8 has a great screen and fast performance, but the battery could last a little longer. Overall, it’s a good tablet for entertainment.\",\n",
    "      \"reviews.title\": \"Great tablet for media consumption\",\n",
    "      \"reviews.userCity\": \"\",\n",
    "      \"reviews.userProvince\": \"\",\n",
    "      \"reviews.username\": \"gadgetguy\",\n",
    "      \"sizes\": \"\",\n",
    "      \"upc\": \"\",\n",
    "      \"weight\": \"355 grams\"\n",
    "    },\n",
    "    'HgLp9jK2e6Kt54Lq9V6Cj5': {\n",
    "      \"id\": \"HgLp9jK2e6Kt54Lq9V6Cj5\",\n",
    "      \"asins\": \"B06XFG96Q5\",\n",
    "      \"brand\": \"Amazon\",\n",
    "      \"categories\": \"Amazon Devices, Amazon.com\",\n",
    "      \"colors\": \"\",\n",
    "      \"dateAdded\": \"2022-10-10T12:40:00Z\",\n",
    "      \"dateUpdated\": \"2023-11-15T16:50:00Z\",\n",
    "      \"dimension\": \"155 mm x 185 mm x 25 mm\",\n",
    "      \"ean\": \"\",\n",
    "      \"keys\": \"kindlehd10/b06xfg96q5\",\n",
    "      \"manufacturer\": \"Amazon\",\n",
    "      \"manufacturerNumber\": \"\",\n",
    "      \"name\": \"Fire HD 10 Plus\",\n",
    "      \"prices\": \"[{\\\"amountMax\\\":189.99,\\\"amountMin\\\":189.99,\\\"currency\\\":\\\"USD\\\",\\\"dateAdded\\\":\\\"2022-10-10T12:40:00Z\\\",\\\"dateSeen\\\":[\\\"2022-10-01T00:00:00Z\\\"],\\\"isSale\\\":\\\"false\\\",\\\"merchant\\\":\\\"Amazon.com\\\",\\\"shipping\\\":\\\"FREE Shipping.\\\",\\\"sourceURLs\\\":[\\\"https://www.amazon.com/Fire-HD-10-Plus-Tablet/dp/B06XFG96Q5\\\"]}]\",\n",
    "      \"reviews.date\": \"\",\n",
    "      \"reviews.doRecommend\": \"\",\n",
    "      \"reviews.numHelpful\": \"\",\n",
    "      \"reviews.rating\": \"5\",\n",
    "      \"reviews.sourceURLs\": \"http://www.amazon.com/product-reviews/B06XFG96Q5\",\n",
    "      \"reviews.text\": \"Absolutely love the Fire HD 10 Plus! The screen quality is top-notch, and it's incredibly fast. It's the perfect device for watching videos and reading.\",\n",
    "      \"reviews.title\": \"Amazing screen and performance\",\n",
    "      \"reviews.userCity\": \"\",\n",
    "      \"reviews.userProvince\": \"\",\n",
    "      \"reviews.username\": \"techlover\",\n",
    "      \"sizes\": \"\",\n",
    "      \"upc\": \"\",\n",
    "      \"weight\": \"432 grams\"\n",
    "    }\n",
    "}\n",
    "\n",
    "services.insert_document(reviews_collection, document)"
   ]
  },
  {
   "cell_type": "markdown",
   "id": "45485d03-3e10-4e9c-8ee6-e67791de61cc",
   "metadata": {
    "jp-MarkdownHeadingCollapsed": true
   },
   "source": [
    "### Document(s) filtered read"
   ]
  },
  {
   "cell_type": "code",
   "execution_count": 8,
   "id": "8cc0092f-8a12-45f5-92cd-87c627dbb107",
   "metadata": {},
   "outputs": [
    {
     "name": "stderr",
     "output_type": "stream",
     "text": [
      "INFO:root:Filtering document(s) matching filter '{'manufacturer': 'Amazon'}' in 'reviews'\n",
      "INFO:root:Found 846 document(s).\n",
      "IOPub data rate exceeded.\n",
      "The Jupyter server will temporarily stop sending output\n",
      "to the client in order to avoid crashing it.\n",
      "To change this limit, set the config variable\n",
      "`--ServerApp.iopub_data_rate_limit`.\n",
      "\n",
      "Current values:\n",
      "ServerApp.iopub_data_rate_limit=1000000.0 (bytes/sec)\n",
      "ServerApp.rate_limit_window=3.0 (secs)\n",
      "\n"
     ]
    }
   ],
   "source": [
    "filter = { 'manufacturer': 'Amazon' }\n",
    "result = services.filtered_read(reviews_collection, filter)\n",
    "\n",
    "if result:\n",
    "   for doc in result:\n",
    "    print(f\"{doc} \\n\\n\")"
   ]
  },
  {
   "cell_type": "markdown",
   "id": "b7f0a7ea-6ff2-405a-9e89-1e0e2a01cee3",
   "metadata": {
    "jp-MarkdownHeadingCollapsed": true
   },
   "source": [
    "### Document(s) update"
   ]
  },
  {
   "cell_type": "code",
   "execution_count": 5,
   "id": "f3ceb8e5-a5a9-4030-8b25-7d7c75bf7fc1",
   "metadata": {},
   "outputs": [
    {
     "name": "stderr",
     "output_type": "stream",
     "text": [
      "INFO:root:Updating document(s) matching filter '{'id': 'AVpe7AsMilAPnD_xGUDT'}' in 'reviews'\n",
      "INFO:root:Matched 1 document(s), updated 1 document(s).\n"
     ]
    },
    {
     "name": "stdout",
     "output_type": "stream",
     "text": [
      "Matched: 1, Updated: 1\n"
     ]
    }
   ],
   "source": [
    "filter = { 'id': 'AVpe7AsMilAPnD_xGUDT' }\n",
    "new_data = { 'weight': '470 grams' }\n",
    "\n",
    "result = services.update_document(reviews_collection, filter, new_data)\n",
    "\n",
    "if result:\n",
    "    print(f\"Matched: {result.matched_count}, Updated: {result.modified_count}\")"
   ]
  },
  {
   "cell_type": "markdown",
   "id": "648ede8a-1797-43e6-ab10-1a40314adc72",
   "metadata": {
    "jp-MarkdownHeadingCollapsed": true
   },
   "source": [
    "### Document(s) deletion"
   ]
  },
  {
   "cell_type": "code",
   "execution_count": 6,
   "id": "0145d6fb-71c1-4cf1-8580-bd869600773e",
   "metadata": {},
   "outputs": [
    {
     "name": "stderr",
     "output_type": "stream",
     "text": [
      "INFO:root:Deleting document(s) matching filter '{'id': 'AVpe7AsMilAPnD_xGUDT'}' in 'reviews'\n",
      "INFO:root:Removed 1 document(s).\n"
     ]
    },
    {
     "name": "stdout",
     "output_type": "stream",
     "text": [
      "Removed: 1\n"
     ]
    }
   ],
   "source": [
    "filter = { 'id': 'AVpe7AsMilAPnD_xGUDT' }\n",
    "\n",
    "result = services.delete_document(reviews_collection, filter)\n",
    "\n",
    "if result:\n",
    "    print(f\"Removed: {result.deleted_count}\")"
   ]
  }
 ],
 "metadata": {
  "kernelspec": {
   "display_name": "Python 3 (ipykernel)",
   "language": "python",
   "name": "python3"
  },
  "language_info": {
   "codemirror_mode": {
    "name": "ipython",
    "version": 3
   },
   "file_extension": ".py",
   "mimetype": "text/x-python",
   "name": "python",
   "nbconvert_exporter": "python",
   "pygments_lexer": "ipython3",
   "version": "3.9.21"
  }
 },
 "nbformat": 4,
 "nbformat_minor": 5
}
