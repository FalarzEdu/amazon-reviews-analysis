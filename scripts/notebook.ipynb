{
 "cells": [
  {
   "cell_type": "code",
   "execution_count": 3,
   "id": "8d29d61d-3a91-4f6d-8117-989b670c439c",
   "metadata": {},
   "outputs": [
    {
     "name": "stdout",
     "output_type": "stream",
     "text": [
      "Connected to MongoDB database: test\n"
     ]
    }
   ],
   "source": [
    "import sys\n",
    "from pathlib import Path\n",
    "\n",
    "# Add the `config` folder to Python path\n",
    "project_dir = Path(\".\")  # Adjust to the root of your project\n",
    "config_path = project_dir / \"config\"\n",
    "sys.path.append(str(config_path))\n",
    "\n",
    "# Test the import\n",
    "from connection import Connection\n",
    "\n",
    "# Create a MongoDB connection instance\n",
    "conn = Connection()\n",
    "db = conn.connect()"
   ]
  },
  {
   "cell_type": "code",
   "execution_count": null,
   "id": "ba38b213-7df2-48bc-af0a-14589e65b1e5",
   "metadata": {},
   "outputs": [],
   "source": []
  }
 ],
 "metadata": {
  "kernelspec": {
   "display_name": "Python 3 (ipykernel)",
   "language": "python",
   "name": "python3"
  },
  "language_info": {
   "codemirror_mode": {
    "name": "ipython",
    "version": 3
   },
   "file_extension": ".py",
   "mimetype": "text/x-python",
   "name": "python",
   "nbconvert_exporter": "python",
   "pygments_lexer": "ipython3",
   "version": "3.9.21"
  }
 },
 "nbformat": 4,
 "nbformat_minor": 5
}
